{
 "cells": [
  {
   "cell_type": "markdown",
   "execution_count": null,
   "metadata": {
    "papermill": {
     "duration": 0.018401,
     "end_time": "2020-08-31T15:52:17.854028",
     "exception": false,
     "start_time": "2020-08-31T15:52:17.835627",
     "status": "completed"
    },
    "tags": []
   },
   "source": [
    "In this notebook we learn about what is K-MEANS, how to implement, how we find the clusters.\n",
    "In this notebook I take 2 Datasets to perform.\n",
    "\n",
    "1) Income dataset\n",
    "\n",
    "2) Iris dataset\n",
    "\n",
    "\n",
    "First we take a simple dataset for a warmup.\n",
    "\n",
    "In this notebook we identify and predict which age group has the highest chances of getting more income.\n",
    "In this dataset we have two columns age and income and 22 number of rows.\n",
    "\n",
    "First import all the necessary libraries"
   ]
  },
  {
   "cell_type": "code",
   "execution_count": 1,
   "metadata": {
    "execution": {
     "iopub.execute_input": "2020-08-31T15:52:17.891861Z",
     "iopub.status.busy": "2020-08-31T15:52:17.890961Z",
     "iopub.status.idle": "2020-08-31T15:52:19.259155Z",
     "shell.execute_reply": "2020-08-31T15:52:19.258334Z"
    },
    "id": "y1dkZfhE-dqJ",
    "papermill": {
     "duration": 1.390026,
     "end_time": "2020-08-31T15:52:19.259288",
     "exception": false,
     "start_time": "2020-08-31T15:52:17.869262",
     "status": "completed"
    },
    "tags": []
   },
   "outputs": [],
   "source": [
    "from sklearn.cluster import KMeans\n",
    "import pandas as pd\n",
    "from sklearn.preprocessing import MinMaxScaler\n",
    "from matplotlib import pyplot as plt\n",
    "%matplotlib inline"
   ]
  },
  {
   "cell_type": "markdown",
   "execution_count": null,
   "metadata": {
    "papermill": {
     "duration": 0.014692,
     "end_time": "2020-08-31T15:52:19.289134",
     "exception": false,
     "start_time": "2020-08-31T15:52:19.274442",
     "status": "completed"
    },
    "tags": []
   },
   "source": [
    "Read the dataframe using pandas"
   ]
  },
  {
   "cell_type": "code",
   "execution_count": 2,
   "metadata": {
    "execution": {
     "iopub.execute_input": "2020-08-31T15:52:19.328999Z",
     "iopub.status.busy": "2020-08-31T15:52:19.328249Z",
     "iopub.status.idle": "2020-08-31T15:52:19.353890Z",
     "shell.execute_reply": "2020-08-31T15:52:19.353149Z"
    },
    "id": "LFa4Jkxb-1G7",
    "outputId": "dd40e793-2838-4dfe-e7db-f962255f9b62",
    "papermill": {
     "duration": 0.049962,
     "end_time": "2020-08-31T15:52:19.354009",
     "exception": false,
     "start_time": "2020-08-31T15:52:19.304047",
     "status": "completed"
    },
    "tags": []
   },
   "outputs": [
    {
     "data": {
      "text/html": [
       "<div>\n",
       "<style scoped>\n",
       "    .dataframe tbody tr th:only-of-type {\n",
       "        vertical-align: middle;\n",
       "    }\n",
       "\n",
       "    .dataframe tbody tr th {\n",
       "        vertical-align: top;\n",
       "    }\n",
       "\n",
       "    .dataframe thead th {\n",
       "        text-align: right;\n",
       "    }\n",
       "</style>\n",
       "<table border=\"1\" class=\"dataframe\">\n",
       "  <thead>\n",
       "    <tr style=\"text-align: right;\">\n",
       "      <th></th>\n",
       "      <th>name</th>\n",
       "      <th>age</th>\n",
       "      <th>income</th>\n",
       "    </tr>\n",
       "  </thead>\n",
       "  <tbody>\n",
       "    <tr>\n",
       "      <th>0</th>\n",
       "      <td>Rob</td>\n",
       "      <td>27</td>\n",
       "      <td>70000</td>\n",
       "    </tr>\n",
       "    <tr>\n",
       "      <th>1</th>\n",
       "      <td>Michael</td>\n",
       "      <td>29</td>\n",
       "      <td>90000</td>\n",
       "    </tr>\n",
       "    <tr>\n",
       "      <th>2</th>\n",
       "      <td>Mohan</td>\n",
       "      <td>29</td>\n",
       "      <td>61000</td>\n",
       "    </tr>\n",
       "    <tr>\n",
       "      <th>3</th>\n",
       "      <td>Ismail</td>\n",
       "      <td>28</td>\n",
       "      <td>60000</td>\n",
       "    </tr>\n",
       "    <tr>\n",
       "      <th>4</th>\n",
       "      <td>Kory</td>\n",
       "      <td>42</td>\n",
       "      <td>150000</td>\n",
       "    </tr>\n",
       "  </tbody>\n",
       "</table>\n",
       "</div>"
      ],
      "text/plain": [
       "      name  age  income\n",
       "0      Rob   27   70000\n",
       "1  Michael   29   90000\n",
       "2    Mohan   29   61000\n",
       "3   Ismail   28   60000\n",
       "4     Kory   42  150000"
      ]
     },
     "execution_count": 2,
     "metadata": {},
     "output_type": "execute_result"
    }
   ],
   "source": [
    "df = pd.read_csv(\"../input/kmeans/k-means.csv\")\n",
    "df.head()"
   ]
  },
  {
   "cell_type": "markdown",
   "execution_count": null,
   "metadata": {
    "papermill": {
     "duration": 0.014897,
     "end_time": "2020-08-31T15:52:19.384340",
     "exception": false,
     "start_time": "2020-08-31T15:52:19.369443",
     "status": "completed"
    },
    "tags": []
   },
   "source": [
    "Find the number of rows and columns to identify the volume of data"
   ]
  },
  {
   "cell_type": "code",
   "execution_count": 3,
   "metadata": {
    "execution": {
     "iopub.execute_input": "2020-08-31T15:52:19.434195Z",
     "iopub.status.busy": "2020-08-31T15:52:19.433351Z",
     "iopub.status.idle": "2020-08-31T15:52:19.436824Z",
     "shell.execute_reply": "2020-08-31T15:52:19.437407Z"
    },
    "papermill": {
     "duration": 0.037907,
     "end_time": "2020-08-31T15:52:19.437548",
     "exception": false,
     "start_time": "2020-08-31T15:52:19.399641",
     "status": "completed"
    },
    "tags": []
   },
   "outputs": [
    {
     "name": "stdout",
     "output_type": "stream",
     "text": [
      "<class 'pandas.core.frame.DataFrame'>\n",
      "RangeIndex: 22 entries, 0 to 21\n",
      "Data columns (total 3 columns):\n",
      " #   Column  Non-Null Count  Dtype \n",
      "---  ------  --------------  ----- \n",
      " 0   name    22 non-null     object\n",
      " 1   age     22 non-null     int64 \n",
      " 2   income  22 non-null     int64 \n",
      "dtypes: int64(2), object(1)\n",
      "memory usage: 656.0+ bytes\n"
     ]
    }
   ],
   "source": [
    "df.info()"
   ]
  },
  {
   "cell_type": "markdown",
   "execution_count": null,
   "metadata": {
    "papermill": {
     "duration": 0.014993,
     "end_time": "2020-08-31T15:52:19.469002",
     "exception": false,
     "start_time": "2020-08-31T15:52:19.454009",
     "status": "completed"
    },
    "tags": []
   },
   "source": [
    "to identify the relation/cluster of data, I draw the scatter plot between age income."
   ]
  },
  {
   "cell_type": "code",
   "execution_count": 4,
   "metadata": {
    "execution": {
     "iopub.execute_input": "2020-08-31T15:52:19.505390Z",
     "iopub.status.busy": "2020-08-31T15:52:19.504670Z",
     "iopub.status.idle": "2020-08-31T15:52:19.750927Z",
     "shell.execute_reply": "2020-08-31T15:52:19.750193Z"
    },
    "id": "cey_U967-_wg",
    "outputId": "30775f9d-25e7-4847-98bb-abac8c65b306",
    "papermill": {
     "duration": 0.266747,
     "end_time": "2020-08-31T15:52:19.751050",
     "exception": false,
     "start_time": "2020-08-31T15:52:19.484303",
     "status": "completed"
    },
    "tags": []
   },
   "outputs": [
    {
     "data": {
      "text/plain": [
       "Text(0, 0.5, 'income')"
      ]
     },
     "execution_count": 4,
     "metadata": {},
     "output_type": "execute_result"
    },
    {
     "data": {
      "image/png": "[encoded data removed]",
      "text/plain": [
       "<Figure size 432x288 with 1 Axes>"
      ]
     },
     "metadata": {
      "needs_background": "light"
     },
     "output_type": "display_data"
    }
   ],
   "source": [
    "plt.scatter(df.age,df.income)\n",
    "plt.xlabel('age')\n",
    "plt.ylabel('income')"
   ]
  },
  {
   "cell_type": "markdown",
   "execution_count": null,
   "metadata": {
    "papermill": {
     "duration": 0.015497,
     "end_time": "2020-08-31T15:52:19.782665",
     "exception": false,
     "start_time": "2020-08-31T15:52:19.767168",
     "status": "completed"
    },
    "tags": []
   },
   "source": [
    "WE use KMeans clustering to build a model.\n",
    "\n",
    "# **KMeans**\n",
    "K-means clustering is a method of vector quantization, originally from signal processing, that aims to partition n observations into k clusters in which each observation belongs to the cluster with the nearest mean (cluster centers or cluster centroid), serving as a prototype of the cluster. \n",
    "\n",
    "\n",
    "Now we import KMenas through sklearn."
   ]
  },
  {
   "cell_type": "code",
   "execution_count": 5,
   "metadata": {
    "execution": {
     "iopub.execute_input": "2020-08-31T15:52:19.818925Z",
     "iopub.status.busy": "2020-08-31T15:52:19.818181Z",
     "iopub.status.idle": "2020-08-31T15:52:19.821477Z",
     "shell.execute_reply": "2020-08-31T15:52:19.820793Z"
    },
    "id": "JLS-XxDa_Fx4",
    "papermill": {
     "duration": 0.023298,
     "end_time": "2020-08-31T15:52:19.821584",
     "exception": false,
     "start_time": "2020-08-31T15:52:19.798286",
     "status": "completed"
    },
    "tags": []
   },
   "outputs": [],
   "source": [
    "from sklearn.cluster import KMeans"
   ]
  },
  {
   "cell_type": "markdown",
   "execution_count": null,
   "metadata": {
    "papermill": {
     "duration": 0.015362,
     "end_time": "2020-08-31T15:52:19.852587",
     "exception": false,
     "start_time": "2020-08-31T15:52:19.837225",
     "status": "completed"
    },
    "tags": []
   },
   "source": [
    "We make three clusters (n_clusters=3)\n",
    "\n",
    "and train the model using fit method\n"
   ]
  },
  {
   "cell_type": "code",
   "execution_count": 6,
   "metadata": {
    "execution": {
     "iopub.execute_input": "2020-08-31T15:52:19.896161Z",
     "iopub.status.busy": "2020-08-31T15:52:19.895417Z",
     "iopub.status.idle": "2020-08-31T15:52:19.935818Z",
     "shell.execute_reply": "2020-08-31T15:52:19.935226Z"
    },
    "id": "aGWHRKou_mtr",
    "papermill": {
     "duration": 0.067555,
     "end_time": "2020-08-31T15:52:19.935940",
     "exception": false,
     "start_time": "2020-08-31T15:52:19.868385",
     "status": "completed"
    },
    "tags": []
   },
   "outputs": [],
   "source": [
    "km=KMeans(n_clusters=3)\n",
    "y_predicted=km.fit_predict(df[['age','income']])"
   ]
  },
  {
   "cell_type": "code",
   "execution_count": 7,
   "metadata": {
    "execution": {
     "iopub.execute_input": "2020-08-31T15:52:19.973760Z",
     "iopub.status.busy": "2020-08-31T15:52:19.972976Z",
     "iopub.status.idle": "2020-08-31T15:52:19.977508Z",
     "shell.execute_reply": "2020-08-31T15:52:19.976911Z"
    },
    "id": "qaEYysl9ApA3",
    "outputId": "4d904450-1fe4-4985-c3ef-4b47abe62d09",
    "papermill": {
     "duration": 0.025335,
     "end_time": "2020-08-31T15:52:19.977619",
     "exception": false,
     "start_time": "2020-08-31T15:52:19.952284",
     "status": "completed"
    },
    "tags": []
   },
   "outputs": [
    {
     "data": {
      "text/plain": [
       "array([2, 2, 0, 0, 1, 1, 1, 1, 1, 1, 1, 0, 0, 0, 0, 0, 0, 0, 0, 2, 2, 0],\n",
       "      dtype=int32)"
      ]
     },
     "execution_count": 7,
     "metadata": {},
     "output_type": "execute_result"
    }
   ],
   "source": [
    "y_predicted"
   ]
  },
  {
   "cell_type": "markdown",
   "execution_count": null,
   "metadata": {
    "papermill": {
     "duration": 0.016815,
     "end_time": "2020-08-31T15:52:20.010665",
     "exception": false,
     "start_time": "2020-08-31T15:52:19.993850",
     "status": "completed"
    },
    "tags": []
   },
   "source": [
    "Now these cluster values we add to dataframe (df)."
   ]
  },
  {
   "cell_type": "code",
   "execution_count": 8,
   "metadata": {
    "execution": {
     "iopub.execute_input": "2020-08-31T15:52:20.058176Z",
     "iopub.status.busy": "2020-08-31T15:52:20.057091Z",
     "iopub.status.idle": "2020-08-31T15:52:20.061264Z",
     "shell.execute_reply": "2020-08-31T15:52:20.060553Z"
    },
    "id": "sJpO7hBXAyOL",
    "outputId": "c910287c-1b0a-4769-9d4f-84c6dc681378",
    "papermill": {
     "duration": 0.031605,
     "end_time": "2020-08-31T15:52:20.061375",
     "exception": false,
     "start_time": "2020-08-31T15:52:20.029770",
     "status": "completed"
    },
    "tags": []
   },
   "outputs": [
    {
     "data": {
      "text/html": [
       "<div>\n",
       "<style scoped>\n",
       "    .dataframe tbody tr th:only-of-type {\n",
       "        vertical-align: middle;\n",
       "    }\n",
       "\n",
       "    .dataframe tbody tr th {\n",
       "        vertical-align: top;\n",
       "    }\n",
       "\n",
       "    .dataframe thead th {\n",
       "        text-align: right;\n",
       "    }\n",
       "</style>\n",
       "<table border=\"1\" class=\"dataframe\">\n",
       "  <thead>\n",
       "    <tr style=\"text-align: right;\">\n",
       "      <th></th>\n",
       "      <th>name</th>\n",
       "      <th>age</th>\n",
       "      <th>income</th>\n",
       "      <th>cluster</th>\n",
       "    </tr>\n",
       "  </thead>\n",
       "  <tbody>\n",
       "    <tr>\n",
       "      <th>0</th>\n",
       "      <td>Rob</td>\n",
       "      <td>27</td>\n",
       "      <td>70000</td>\n",
       "      <td>2</td>\n",
       "    </tr>\n",
       "    <tr>\n",
       "      <th>1</th>\n",
       "      <td>Michael</td>\n",
       "      <td>29</td>\n",
       "      <td>90000</td>\n",
       "      <td>2</td>\n",
       "    </tr>\n",
       "    <tr>\n",
       "      <th>2</th>\n",
       "      <td>Mohan</td>\n",
       "      <td>29</td>\n",
       "      <td>61000</td>\n",
       "      <td>0</td>\n",
       "    </tr>\n",
       "    <tr>\n",
       "      <th>3</th>\n",
       "      <td>Ismail</td>\n",
       "      <td>28</td>\n",
       "      <td>60000</td>\n",
       "      <td>0</td>\n",
       "    </tr>\n",
       "    <tr>\n",
       "      <th>4</th>\n",
       "      <td>Kory</td>\n",
       "      <td>42</td>\n",
       "      <td>150000</td>\n",
       "      <td>1</td>\n",
       "    </tr>\n",
       "  </tbody>\n",
       "</table>\n",
       "</div>"
      ],
      "text/plain": [
       "      name  age  income  cluster\n",
       "0      Rob   27   70000        2\n",
       "1  Michael   29   90000        2\n",
       "2    Mohan   29   61000        0\n",
       "3   Ismail   28   60000        0\n",
       "4     Kory   42  150000        1"
      ]
     },
     "execution_count": 8,
     "metadata": {},
     "output_type": "execute_result"
    }
   ],
   "source": [
    "df['cluster']=y_predicted\n",
    "df.head()"
   ]
  },
  {
   "cell_type": "markdown",
   "execution_count": null,
   "metadata": {
    "papermill": {
     "duration": 0.01617,
     "end_time": "2020-08-31T15:52:20.093943",
     "exception": false,
     "start_time": "2020-08-31T15:52:20.077773",
     "status": "completed"
    },
    "tags": []
   },
   "source": [
    "Print the cluster centers."
   ]
  },
  {
   "cell_type": "code",
   "execution_count": 9,
   "metadata": {
    "execution": {
     "iopub.execute_input": "2020-08-31T15:52:20.133089Z",
     "iopub.status.busy": "2020-08-31T15:52:20.132222Z",
     "iopub.status.idle": "2020-08-31T15:52:20.135747Z",
     "shell.execute_reply": "2020-08-31T15:52:20.136268Z"
    },
    "id": "zD_1nc0TA33C",
    "outputId": "6201c47c-90f2-42e7-9934-44ace21a8170",
    "papermill": {
     "duration": 0.026065,
     "end_time": "2020-08-31T15:52:20.136410",
     "exception": false,
     "start_time": "2020-08-31T15:52:20.110345",
     "status": "completed"
    },
    "tags": []
   },
   "outputs": [
    {
     "data": {
      "text/plain": [
       "array([[3.29090909e+01, 5.61363636e+04],\n",
       "       [3.82857143e+01, 1.50000000e+05],\n",
       "       [3.40000000e+01, 8.05000000e+04]])"
      ]
     },
     "execution_count": 9,
     "metadata": {},
     "output_type": "execute_result"
    }
   ],
   "source": [
    "km.cluster_centers_"
   ]
  },
  {
   "cell_type": "markdown",
   "execution_count": null,
   "metadata": {
    "papermill": {
     "duration": 0.017891,
     "end_time": "2020-08-31T15:52:20.172398",
     "exception": false,
     "start_time": "2020-08-31T15:52:20.154507",
     "status": "completed"
    },
    "tags": []
   },
   "source": [
    "Now we make different dataframes of each cluster."
   ]
  },
  {
   "cell_type": "code",
   "execution_count": 10,
   "metadata": {
    "execution": {
     "iopub.execute_input": "2020-08-31T15:52:20.211914Z",
     "iopub.status.busy": "2020-08-31T15:52:20.210962Z",
     "iopub.status.idle": "2020-08-31T15:52:20.236887Z",
     "shell.execute_reply": "2020-08-31T15:52:20.236136Z"
    },
    "id": "2Xc8OVOHCduo",
    "papermill": {
     "duration": 0.048019,
     "end_time": "2020-08-31T15:52:20.237010",
     "exception": false,
     "start_time": "2020-08-31T15:52:20.188991",
     "status": "completed"
    },
    "tags": []
   },
   "outputs": [],
   "source": [
    "df1=df[df.cluster==0]\n",
    "df2=df[df.cluster==1]\n",
    "df3=df[df.cluster==2]"
   ]
  },
  {
   "cell_type": "markdown",
   "execution_count": null,
   "metadata": {
    "papermill": {
     "duration": 0.016284,
     "end_time": "2020-08-31T15:52:20.270127",
     "exception": false,
     "start_time": "2020-08-31T15:52:20.253843",
     "status": "completed"
    },
    "tags": []
   },
   "source": [
    "Now we show different clusters using different colours and the centroid by a purple star."
   ]
  },
  {
   "cell_type": "code",
   "execution_count": 11,
   "metadata": {
    "execution": {
     "iopub.execute_input": "2020-08-31T15:52:20.323110Z",
     "iopub.status.busy": "2020-08-31T15:52:20.318245Z",
     "iopub.status.idle": "2020-08-31T15:52:20.504279Z",
     "shell.execute_reply": "2020-08-31T15:52:20.504838Z"
    },
    "id": "BZFwwNdqDC9K",
    "outputId": "2d440f3a-380d-44db-ae23-667cbc142bed",
    "papermill": {
     "duration": 0.218378,
     "end_time": "2020-08-31T15:52:20.504993",
     "exception": false,
     "start_time": "2020-08-31T15:52:20.286615",
     "status": "completed"
    },
    "tags": []
   },
   "outputs": [
    {
     "data": {
      "text/plain": [
       "<matplotlib.legend.Legend at 0x7fdf97939c90>"
      ]
     },
     "execution_count": 11,
     "metadata": {},
     "output_type": "execute_result"
    },
    {
     "data": {
      "image/png": "[encoded data removed]",
      "text/plain": [
       "<Figure size 432x288 with 1 Axes>"
      ]
     },
     "metadata": {
      "needs_background": "light"
     },
     "output_type": "display_data"
    }
   ],
   "source": [
    "plt.scatter(df1.age,df1['income'],color='red')\n",
    "plt.scatter(df2.age,df2['income'],color='green')\n",
    "plt.scatter(df3.age,df3['income'],color='black')\n",
    "plt.scatter(km.cluster_centers_[:,0],km.cluster_centers_[:,1],color='purple',marker='*',label='centroid')\n",
    "plt.xlabel('age')\n",
    "plt.ylabel('income')\n",
    "plt.legend()"
   ]
  },
  {
   "cell_type": "markdown",
   "execution_count": null,
   "metadata": {
    "papermill": {
     "duration": 0.016692,
     "end_time": "2020-08-31T15:52:20.538887",
     "exception": false,
     "start_time": "2020-08-31T15:52:20.522195",
     "status": "completed"
    },
    "tags": []
   },
   "source": [
    "As you can see the graph is not appropriate and the centroids are not perfectly formed. Now we will work again on this dataset to set the centroids and get the better results.\n",
    "\n",
    "\n",
    "Now we transform our data and make every value between 0 to 1."
   ]
  },
  {
   "cell_type": "code",
   "execution_count": 12,
   "metadata": {
    "execution": {
     "iopub.execute_input": "2020-08-31T15:52:20.577679Z",
     "iopub.status.busy": "2020-08-31T15:52:20.576976Z",
     "iopub.status.idle": "2020-08-31T15:52:20.580470Z",
     "shell.execute_reply": "2020-08-31T15:52:20.579772Z"
    },
    "id": "ilwkY0vlHc8e",
    "papermill": {
     "duration": 0.024804,
     "end_time": "2020-08-31T15:52:20.580580",
     "exception": false,
     "start_time": "2020-08-31T15:52:20.555776",
     "status": "completed"
    },
    "tags": []
   },
   "outputs": [],
   "source": [
    "from sklearn.preprocessing import MinMaxScaler"
   ]
  },
  {
   "cell_type": "markdown",
   "execution_count": null,
   "metadata": {
    "papermill": {
     "duration": 0.017277,
     "end_time": "2020-08-31T15:52:20.614829",
     "exception": false,
     "start_time": "2020-08-31T15:52:20.597552",
     "status": "completed"
    },
    "tags": []
   },
   "source": [
    "now make the object of MinMaxScalar"
   ]
  },
  {
   "cell_type": "code",
   "execution_count": 13,
   "metadata": {
    "execution": {
     "iopub.execute_input": "2020-08-31T15:52:20.653735Z",
     "iopub.status.busy": "2020-08-31T15:52:20.653011Z",
     "iopub.status.idle": "2020-08-31T15:52:20.656458Z",
     "shell.execute_reply": "2020-08-31T15:52:20.655882Z"
    },
    "id": "ADWPSP_ALE1P",
    "papermill": {
     "duration": 0.024737,
     "end_time": "2020-08-31T15:52:20.656566",
     "exception": false,
     "start_time": "2020-08-31T15:52:20.631829",
     "status": "completed"
    },
    "tags": []
   },
   "outputs": [],
   "source": [
    "scaler=MinMaxScaler()"
   ]
  },
  {
   "cell_type": "markdown",
   "execution_count": null,
   "metadata": {
    "papermill": {
     "duration": 0.016771,
     "end_time": "2020-08-31T15:52:20.690346",
     "exception": false,
     "start_time": "2020-08-31T15:52:20.673575",
     "status": "completed"
    },
    "tags": []
   },
   "source": [
    "Transform the data"
   ]
  },
  {
   "cell_type": "code",
   "execution_count": 14,
   "metadata": {
    "execution": {
     "iopub.execute_input": "2020-08-31T15:52:20.742992Z",
     "iopub.status.busy": "2020-08-31T15:52:20.741951Z",
     "iopub.status.idle": "2020-08-31T15:52:20.745206Z",
     "shell.execute_reply": "2020-08-31T15:52:20.744582Z"
    },
    "id": "sU3dB6ypLHaT",
    "papermill": {
     "duration": 0.037971,
     "end_time": "2020-08-31T15:52:20.745321",
     "exception": false,
     "start_time": "2020-08-31T15:52:20.707350",
     "status": "completed"
    },
    "tags": []
   },
   "outputs": [],
   "source": [
    "scaler.fit(df[['income']])\n",
    "df.income=scaler.transform(df[['income']])\n",
    "\n",
    "scaler.fit(df[['age']])\n",
    "df.age=scaler.transform(df[['age']])"
   ]
  },
  {
   "cell_type": "code",
   "execution_count": 15,
   "metadata": {
    "execution": {
     "iopub.execute_input": "2020-08-31T15:52:20.790875Z",
     "iopub.status.busy": "2020-08-31T15:52:20.790009Z",
     "iopub.status.idle": "2020-08-31T15:52:20.793839Z",
     "shell.execute_reply": "2020-08-31T15:52:20.794540Z"
    },
    "id": "eWGubP-2cAok",
    "outputId": "274804c6-5005-4545-fd99-f8c5e90b3c71",
    "papermill": {
     "duration": 0.032206,
     "end_time": "2020-08-31T15:52:20.794722",
     "exception": false,
     "start_time": "2020-08-31T15:52:20.762516",
     "status": "completed"
    },
    "tags": []
   },
   "outputs": [
    {
     "data": {
      "text/html": [
       "<div>\n",
       "<style scoped>\n",
       "    .dataframe tbody tr th:only-of-type {\n",
       "        vertical-align: middle;\n",
       "    }\n",
       "\n",
       "    .dataframe tbody tr th {\n",
       "        vertical-align: top;\n",
       "    }\n",
       "\n",
       "    .dataframe thead th {\n",
       "        text-align: right;\n",
       "    }\n",
       "</style>\n",
       "<table border=\"1\" class=\"dataframe\">\n",
       "  <thead>\n",
       "    <tr style=\"text-align: right;\">\n",
       "      <th></th>\n",
       "      <th>name</th>\n",
       "      <th>age</th>\n",
       "      <th>income</th>\n",
       "      <th>cluster</th>\n",
       "    </tr>\n",
       "  </thead>\n",
       "  <tbody>\n",
       "    <tr>\n",
       "      <th>0</th>\n",
       "      <td>Rob</td>\n",
       "      <td>0.058824</td>\n",
       "      <td>0.213675</td>\n",
       "      <td>2</td>\n",
       "    </tr>\n",
       "    <tr>\n",
       "      <th>1</th>\n",
       "      <td>Michael</td>\n",
       "      <td>0.176471</td>\n",
       "      <td>0.384615</td>\n",
       "      <td>2</td>\n",
       "    </tr>\n",
       "    <tr>\n",
       "      <th>2</th>\n",
       "      <td>Mohan</td>\n",
       "      <td>0.176471</td>\n",
       "      <td>0.136752</td>\n",
       "      <td>0</td>\n",
       "    </tr>\n",
       "    <tr>\n",
       "      <th>3</th>\n",
       "      <td>Ismail</td>\n",
       "      <td>0.117647</td>\n",
       "      <td>0.128205</td>\n",
       "      <td>0</td>\n",
       "    </tr>\n",
       "    <tr>\n",
       "      <th>4</th>\n",
       "      <td>Kory</td>\n",
       "      <td>0.941176</td>\n",
       "      <td>0.897436</td>\n",
       "      <td>1</td>\n",
       "    </tr>\n",
       "  </tbody>\n",
       "</table>\n",
       "</div>"
      ],
      "text/plain": [
       "      name       age    income  cluster\n",
       "0      Rob  0.058824  0.213675        2\n",
       "1  Michael  0.176471  0.384615        2\n",
       "2    Mohan  0.176471  0.136752        0\n",
       "3   Ismail  0.117647  0.128205        0\n",
       "4     Kory  0.941176  0.897436        1"
      ]
     },
     "execution_count": 15,
     "metadata": {},
     "output_type": "execute_result"
    }
   ],
   "source": [
    "df.head()"
   ]
  },
  {
   "cell_type": "markdown",
   "execution_count": null,
   "metadata": {
    "papermill": {
     "duration": 0.01736,
     "end_time": "2020-08-31T15:52:20.829764",
     "exception": false,
     "start_time": "2020-08-31T15:52:20.812404",
     "status": "completed"
    },
    "tags": []
   },
   "source": [
    "Apply the KMeans model on this data again using fit method"
   ]
  },
  {
   "cell_type": "code",
   "execution_count": 16,
   "metadata": {
    "execution": {
     "iopub.execute_input": "2020-08-31T15:52:20.873987Z",
     "iopub.status.busy": "2020-08-31T15:52:20.873229Z",
     "iopub.status.idle": "2020-08-31T15:52:20.899549Z",
     "shell.execute_reply": "2020-08-31T15:52:20.900356Z"
    },
    "id": "kwqcgUJGcWPG",
    "papermill": {
     "duration": 0.053219,
     "end_time": "2020-08-31T15:52:20.900516",
     "exception": false,
     "start_time": "2020-08-31T15:52:20.847297",
     "status": "completed"
    },
    "tags": []
   },
   "outputs": [],
   "source": [
    "km=KMeans(n_clusters=3)\n",
    "y_predicted=km.fit_predict(df[['age','income']])"
   ]
  },
  {
   "cell_type": "code",
   "execution_count": 17,
   "metadata": {
    "execution": {
     "iopub.execute_input": "2020-08-31T15:52:20.946412Z",
     "iopub.status.busy": "2020-08-31T15:52:20.945299Z",
     "iopub.status.idle": "2020-08-31T15:52:20.949803Z",
     "shell.execute_reply": "2020-08-31T15:52:20.949175Z"
    },
    "id": "cOZCqc_0cmbC",
    "outputId": "8fd86ef1-b21f-4a40-84e0-d90188717e0e",
    "papermill": {
     "duration": 0.02956,
     "end_time": "2020-08-31T15:52:20.949922",
     "exception": false,
     "start_time": "2020-08-31T15:52:20.920362",
     "status": "completed"
    },
    "tags": []
   },
   "outputs": [
    {
     "data": {
      "text/plain": [
       "array([0, 0, 0, 0, 1, 1, 1, 1, 1, 1, 1, 0, 0, 0, 0, 0, 2, 2, 2, 2, 2, 2],\n",
       "      dtype=int32)"
      ]
     },
     "execution_count": 17,
     "metadata": {},
     "output_type": "execute_result"
    }
   ],
   "source": [
    "y_predicted"
   ]
  },
  {
   "cell_type": "code",
   "execution_count": 18,
   "metadata": {
    "execution": {
     "iopub.execute_input": "2020-08-31T15:52:20.996852Z",
     "iopub.status.busy": "2020-08-31T15:52:20.996111Z",
     "iopub.status.idle": "2020-08-31T15:52:21.000471Z",
     "shell.execute_reply": "2020-08-31T15:52:21.001209Z"
    },
    "id": "CeT7NK_CcqyT",
    "outputId": "303a8730-901b-4d9e-9a2c-bda9b72de1b3",
    "papermill": {
     "duration": 0.033577,
     "end_time": "2020-08-31T15:52:21.001358",
     "exception": false,
     "start_time": "2020-08-31T15:52:20.967781",
     "status": "completed"
    },
    "tags": []
   },
   "outputs": [
    {
     "data": {
      "text/html": [
       "<div>\n",
       "<style scoped>\n",
       "    .dataframe tbody tr th:only-of-type {\n",
       "        vertical-align: middle;\n",
       "    }\n",
       "\n",
       "    .dataframe tbody tr th {\n",
       "        vertical-align: top;\n",
       "    }\n",
       "\n",
       "    .dataframe thead th {\n",
       "        text-align: right;\n",
       "    }\n",
       "</style>\n",
       "<table border=\"1\" class=\"dataframe\">\n",
       "  <thead>\n",
       "    <tr style=\"text-align: right;\">\n",
       "      <th></th>\n",
       "      <th>name</th>\n",
       "      <th>age</th>\n",
       "      <th>income</th>\n",
       "      <th>cluster</th>\n",
       "    </tr>\n",
       "  </thead>\n",
       "  <tbody>\n",
       "    <tr>\n",
       "      <th>0</th>\n",
       "      <td>Rob</td>\n",
       "      <td>0.058824</td>\n",
       "      <td>0.213675</td>\n",
       "      <td>0</td>\n",
       "    </tr>\n",
       "    <tr>\n",
       "      <th>1</th>\n",
       "      <td>Michael</td>\n",
       "      <td>0.176471</td>\n",
       "      <td>0.384615</td>\n",
       "      <td>0</td>\n",
       "    </tr>\n",
       "    <tr>\n",
       "      <th>2</th>\n",
       "      <td>Mohan</td>\n",
       "      <td>0.176471</td>\n",
       "      <td>0.136752</td>\n",
       "      <td>0</td>\n",
       "    </tr>\n",
       "    <tr>\n",
       "      <th>3</th>\n",
       "      <td>Ismail</td>\n",
       "      <td>0.117647</td>\n",
       "      <td>0.128205</td>\n",
       "      <td>0</td>\n",
       "    </tr>\n",
       "    <tr>\n",
       "      <th>4</th>\n",
       "      <td>Kory</td>\n",
       "      <td>0.941176</td>\n",
       "      <td>0.897436</td>\n",
       "      <td>1</td>\n",
       "    </tr>\n",
       "  </tbody>\n",
       "</table>\n",
       "</div>"
      ],
      "text/plain": [
       "      name       age    income  cluster\n",
       "0      Rob  0.058824  0.213675        0\n",
       "1  Michael  0.176471  0.384615        0\n",
       "2    Mohan  0.176471  0.136752        0\n",
       "3   Ismail  0.117647  0.128205        0\n",
       "4     Kory  0.941176  0.897436        1"
      ]
     },
     "execution_count": 18,
     "metadata": {},
     "output_type": "execute_result"
    }
   ],
   "source": [
    "df['cluster']=y_predicted\n",
    "df.head()"
   ]
  },
  {
   "cell_type": "code",
   "execution_count": 19,
   "metadata": {
    "execution": {
     "iopub.execute_input": "2020-08-31T15:52:21.043563Z",
     "iopub.status.busy": "2020-08-31T15:52:21.042479Z",
     "iopub.status.idle": "2020-08-31T15:52:21.046975Z",
     "shell.execute_reply": "2020-08-31T15:52:21.046375Z"
    },
    "id": "CjYITXLTc2sJ",
    "outputId": "ba185ec6-20d5-47f4-9fdf-c0ef6a37cade",
    "papermill": {
     "duration": 0.0276,
     "end_time": "2020-08-31T15:52:21.047096",
     "exception": false,
     "start_time": "2020-08-31T15:52:21.019496",
     "status": "completed"
    },
    "tags": []
   },
   "outputs": [
    {
     "data": {
      "text/plain": [
       "array([[0.1372549 , 0.11633428],\n",
       "       [0.72268908, 0.8974359 ],\n",
       "       [0.85294118, 0.2022792 ]])"
      ]
     },
     "execution_count": 19,
     "metadata": {},
     "output_type": "execute_result"
    }
   ],
   "source": [
    "km.cluster_centers_"
   ]
  },
  {
   "cell_type": "code",
   "execution_count": 20,
   "metadata": {
    "execution": {
     "iopub.execute_input": "2020-08-31T15:52:21.092526Z",
     "iopub.status.busy": "2020-08-31T15:52:21.091520Z",
     "iopub.status.idle": "2020-08-31T15:52:21.094387Z",
     "shell.execute_reply": "2020-08-31T15:52:21.093667Z"
    },
    "id": "17GUODqMc_Ga",
    "papermill": {
     "duration": 0.029147,
     "end_time": "2020-08-31T15:52:21.094501",
     "exception": false,
     "start_time": "2020-08-31T15:52:21.065354",
     "status": "completed"
    },
    "tags": []
   },
   "outputs": [],
   "source": [
    "df1=df[df.cluster==0]\n",
    "df2=df[df.cluster==1]\n",
    "df3=df[df.cluster==2]"
   ]
  },
  {
   "cell_type": "code",
   "execution_count": 21,
   "metadata": {
    "execution": {
     "iopub.execute_input": "2020-08-31T15:52:21.147653Z",
     "iopub.status.busy": "2020-08-31T15:52:21.145858Z",
     "iopub.status.idle": "2020-08-31T15:52:21.324877Z",
     "shell.execute_reply": "2020-08-31T15:52:21.324288Z"
    },
    "id": "WlrdpUdZdL86",
    "outputId": "c2ec2e48-7c71-407b-fb36-56f6c6acd8d4",
    "papermill": {
     "duration": 0.211852,
     "end_time": "2020-08-31T15:52:21.324997",
     "exception": false,
     "start_time": "2020-08-31T15:52:21.113145",
     "status": "completed"
    },
    "tags": []
   },
   "outputs": [
    {
     "data": {
      "text/plain": [
       "<matplotlib.legend.Legend at 0x7fdf97846e10>"
      ]
     },
     "execution_count": 21,
     "metadata": {},
     "output_type": "execute_result"
    },
    {
     "data": {
      "image/png": "[encoded data removed]",
      "text/plain": [
       "<Figure size 432x288 with 1 Axes>"
      ]
     },
     "metadata": {
      "needs_background": "light"
     },
     "output_type": "display_data"
    }
   ],
   "source": [
    "plt.scatter(df1.age,df1['income'],color='red')\n",
    "plt.scatter(df2.age,df2['income'],color='green')\n",
    "plt.scatter(df3.age,df3['income'],color='black')\n",
    "plt.scatter(km.cluster_centers_[:,0],km.cluster_centers_[:,1],color='purple',marker='*',label='centroid')\n",
    "plt.xlabel('age')\n",
    "plt.ylabel('income')\n",
    "plt.legend()"
   ]
  },
  {
   "cell_type": "markdown",
   "execution_count": null,
   "metadata": {
    "papermill": {
     "duration": 0.018337,
     "end_time": "2020-08-31T15:52:21.362109",
     "exception": false,
     "start_time": "2020-08-31T15:52:21.343772",
     "status": "completed"
    },
    "tags": []
   },
   "source": [
    "As you seen above, now the centroids are in perfect position and make the perfect clusters.\n",
    "\n",
    "\n"
   ]
  },
  {
   "cell_type": "markdown",
   "execution_count": null,
   "metadata": {
    "papermill": {
     "duration": 0.01831,
     "end_time": "2020-08-31T15:52:21.398978",
     "exception": false,
     "start_time": "2020-08-31T15:52:21.380668",
     "status": "completed"
    },
    "tags": []
   },
   "source": [
    "Now we find Sum of squared distances of samples to their closest cluster center."
   ]
  },
  {
   "cell_type": "code",
   "execution_count": 22,
   "metadata": {
    "execution": {
     "iopub.execute_input": "2020-08-31T15:52:21.482335Z",
     "iopub.status.busy": "2020-08-31T15:52:21.481361Z",
     "iopub.status.idle": "2020-08-31T15:52:21.484787Z",
     "shell.execute_reply": "2020-08-31T15:52:21.485536Z"
    },
    "id": "WbVdOSFoq17c",
    "outputId": "b82f89df-48b7-4776-85f4-861a2dca713f",
    "papermill": {
     "duration": 0.027982,
     "end_time": "2020-08-31T15:52:21.485740",
     "exception": false,
     "start_time": "2020-08-31T15:52:21.457758",
     "status": "completed"
    },
    "tags": []
   },
   "outputs": [
    {
     "data": {
      "text/plain": [
       "0.4750783498553097"
      ]
     },
     "execution_count": 22,
     "metadata": {},
     "output_type": "execute_result"
    }
   ],
   "source": [
    "km.inertia_"
   ]
  },
  {
   "cell_type": "markdown",
   "execution_count": null,
   "metadata": {
    "papermill": {
     "duration": 0.018725,
     "end_time": "2020-08-31T15:52:21.527494",
     "exception": false,
     "start_time": "2020-08-31T15:52:21.508769",
     "status": "completed"
    },
    "tags": []
   },
   "source": [
    "Now we find the relation bertween Number of clusters and sum of squared error"
   ]
  },
  {
   "cell_type": "code",
   "execution_count": 23,
   "metadata": {
    "execution": {
     "iopub.execute_input": "2020-08-31T15:52:21.577507Z",
     "iopub.status.busy": "2020-08-31T15:52:21.576548Z",
     "iopub.status.idle": "2020-08-31T15:52:21.945487Z",
     "shell.execute_reply": "2020-08-31T15:52:21.944850Z"
    },
    "id": "o9F1a905ieZJ",
    "papermill": {
     "duration": 0.39908,
     "end_time": "2020-08-31T15:52:21.945621",
     "exception": false,
     "start_time": "2020-08-31T15:52:21.546541",
     "status": "completed"
    },
    "tags": []
   },
   "outputs": [],
   "source": [
    "sse = []\n",
    "k_rng = range(1,10)\n",
    "for k in k_rng:\n",
    "    km = KMeans(n_clusters=k)\n",
    "    km.fit(df[['age','income']])\n",
    "    sse.append(km.inertia_)"
   ]
  },
  {
   "cell_type": "code",
   "execution_count": 24,
   "metadata": {
    "execution": {
     "iopub.execute_input": "2020-08-31T15:52:21.995536Z",
     "iopub.status.busy": "2020-08-31T15:52:21.994467Z",
     "iopub.status.idle": "2020-08-31T15:52:21.999347Z",
     "shell.execute_reply": "2020-08-31T15:52:22.000324Z"
    },
    "papermill": {
     "duration": 0.034926,
     "end_time": "2020-08-31T15:52:22.000513",
     "exception": false,
     "start_time": "2020-08-31T15:52:21.965587",
     "status": "completed"
    },
    "tags": []
   },
   "outputs": [
    {
     "data": {
      "text/plain": [
       "[5.434011511988179,\n",
       " 2.091136388699078,\n",
       " 0.4750783498553097,\n",
       " 0.3491047094419566,\n",
       " 0.2818479744366238,\n",
       " 0.22020960864009395,\n",
       " 0.1685851223602976,\n",
       " 0.13265419827245162,\n",
       " 0.10740235405674733]"
      ]
     },
     "execution_count": 24,
     "metadata": {},
     "output_type": "execute_result"
    }
   ],
   "source": [
    "sse"
   ]
  },
  {
   "cell_type": "code",
   "execution_count": 25,
   "metadata": {
    "execution": {
     "iopub.execute_input": "2020-08-31T15:52:22.066433Z",
     "iopub.status.busy": "2020-08-31T15:52:22.065036Z",
     "iopub.status.idle": "2020-08-31T15:52:22.376262Z",
     "shell.execute_reply": "2020-08-31T15:52:22.376895Z"
    },
    "id": "TFwg_d1ii6tK",
    "outputId": "020dd553-e55b-41bf-ede4-7a64386b174c",
    "papermill": {
     "duration": 0.350351,
     "end_time": "2020-08-31T15:52:22.377063",
     "exception": false,
     "start_time": "2020-08-31T15:52:22.026712",
     "status": "completed"
    },
    "tags": []
   },
   "outputs": [
    {
     "data": {
      "text/plain": [
       "[<matplotlib.lines.Line2D at 0x7fdf97808ad0>]"
      ]
     },
     "execution_count": 25,
     "metadata": {},
     "output_type": "execute_result"
    },
    {
     "data": {
      "image/png": "[encoded data removed]",
      "text/plain": [
       "<Figure size 432x288 with 1 Axes>"
      ]
     },
     "metadata": {
      "needs_background": "light"
     },
     "output_type": "display_data"
    }
   ],
   "source": [
    "plt.xlabel('K')\n",
    "plt.ylabel('Sum of squared error')\n",
    "plt.plot(k_rng,sse)"
   ]
  },
  {
   "cell_type": "markdown",
   "execution_count": null,
   "metadata": {
    "papermill": {
     "duration": 0.033699,
     "end_time": "2020-08-31T15:52:22.431336",
     "exception": false,
     "start_time": "2020-08-31T15:52:22.397637",
     "status": "completed"
    },
    "tags": []
   },
   "source": [
    "2)  Now we use IRIS dataset\n",
    "\n",
    "import IRIS dataset from sklearn"
   ]
  },
  {
   "cell_type": "code",
   "execution_count": 26,
   "metadata": {
    "execution": {
     "iopub.execute_input": "2020-08-31T15:52:22.477035Z",
     "iopub.status.busy": "2020-08-31T15:52:22.476300Z",
     "iopub.status.idle": "2020-08-31T15:52:22.596961Z",
     "shell.execute_reply": "2020-08-31T15:52:22.596151Z"
    },
    "id": "1nYITB7CdPqA",
    "papermill": {
     "duration": 0.145837,
     "end_time": "2020-08-31T15:52:22.597086",
     "exception": false,
     "start_time": "2020-08-31T15:52:22.451249",
     "status": "completed"
    },
    "tags": []
   },
   "outputs": [],
   "source": [
    "from sklearn.datasets import load_iris"
   ]
  },
  {
   "cell_type": "code",
   "execution_count": 27,
   "metadata": {
    "execution": {
     "iopub.execute_input": "2020-08-31T15:52:22.644222Z",
     "iopub.status.busy": "2020-08-31T15:52:22.643262Z",
     "iopub.status.idle": "2020-08-31T15:52:22.652725Z",
     "shell.execute_reply": "2020-08-31T15:52:22.651775Z"
    },
    "id": "f1JjsCwfeDZH",
    "papermill": {
     "duration": 0.033931,
     "end_time": "2020-08-31T15:52:22.652873",
     "exception": false,
     "start_time": "2020-08-31T15:52:22.618942",
     "status": "completed"
    },
    "tags": []
   },
   "outputs": [],
   "source": [
    "iris=load_iris()"
   ]
  },
  {
   "cell_type": "markdown",
   "execution_count": null,
   "metadata": {
    "papermill": {
     "duration": 0.019777,
     "end_time": "2020-08-31T15:52:22.697048",
     "exception": false,
     "start_time": "2020-08-31T15:52:22.677271",
     "status": "completed"
    },
    "tags": []
   },
   "source": [
    "Convert IRIS dataset into dataframe using pandas"
   ]
  },
  {
   "cell_type": "code",
   "execution_count": 28,
   "metadata": {
    "execution": {
     "iopub.execute_input": "2020-08-31T15:52:22.756049Z",
     "iopub.status.busy": "2020-08-31T15:52:22.755041Z",
     "iopub.status.idle": "2020-08-31T15:52:22.760047Z",
     "shell.execute_reply": "2020-08-31T15:52:22.759317Z"
    },
    "id": "-Jsmbn8OeHkK",
    "outputId": "02f63f00-4c37-4157-a4e5-bd05ed6792f2",
    "papermill": {
     "duration": 0.042818,
     "end_time": "2020-08-31T15:52:22.760165",
     "exception": false,
     "start_time": "2020-08-31T15:52:22.717347",
     "status": "completed"
    },
    "tags": []
   },
   "outputs": [
    {
     "data": {
      "text/html": [
       "<div>\n",
       "<style scoped>\n",
       "    .dataframe tbody tr th:only-of-type {\n",
       "        vertical-align: middle;\n",
       "    }\n",
       "\n",
       "    .dataframe tbody tr th {\n",
       "        vertical-align: top;\n",
       "    }\n",
       "\n",
       "    .dataframe thead th {\n",
       "        text-align: right;\n",
       "    }\n",
       "</style>\n",
       "<table border=\"1\" class=\"dataframe\">\n",
       "  <thead>\n",
       "    <tr style=\"text-align: right;\">\n",
       "      <th></th>\n",
       "      <th>sepal length (cm)</th>\n",
       "      <th>sepal width (cm)</th>\n",
       "      <th>petal length (cm)</th>\n",
       "      <th>petal width (cm)</th>\n",
       "    </tr>\n",
       "  </thead>\n",
       "  <tbody>\n",
       "    <tr>\n",
       "      <th>0</th>\n",
       "      <td>5.1</td>\n",
       "      <td>3.5</td>\n",
       "      <td>1.4</td>\n",
       "      <td>0.2</td>\n",
       "    </tr>\n",
       "    <tr>\n",
       "      <th>1</th>\n",
       "      <td>4.9</td>\n",
       "      <td>3.0</td>\n",
       "      <td>1.4</td>\n",
       "      <td>0.2</td>\n",
       "    </tr>\n",
       "    <tr>\n",
       "      <th>2</th>\n",
       "      <td>4.7</td>\n",
       "      <td>3.2</td>\n",
       "      <td>1.3</td>\n",
       "      <td>0.2</td>\n",
       "    </tr>\n",
       "    <tr>\n",
       "      <th>3</th>\n",
       "      <td>4.6</td>\n",
       "      <td>3.1</td>\n",
       "      <td>1.5</td>\n",
       "      <td>0.2</td>\n",
       "    </tr>\n",
       "    <tr>\n",
       "      <th>4</th>\n",
       "      <td>5.0</td>\n",
       "      <td>3.6</td>\n",
       "      <td>1.4</td>\n",
       "      <td>0.2</td>\n",
       "    </tr>\n",
       "  </tbody>\n",
       "</table>\n",
       "</div>"
      ],
      "text/plain": [
       "   sepal length (cm)  sepal width (cm)  petal length (cm)  petal width (cm)\n",
       "0                5.1               3.5                1.4               0.2\n",
       "1                4.9               3.0                1.4               0.2\n",
       "2                4.7               3.2                1.3               0.2\n",
       "3                4.6               3.1                1.5               0.2\n",
       "4                5.0               3.6                1.4               0.2"
      ]
     },
     "execution_count": 28,
     "metadata": {},
     "output_type": "execute_result"
    }
   ],
   "source": [
    "df = pd.DataFrame(iris.data,columns=iris.feature_names)\n",
    "df.head()"
   ]
  },
  {
   "cell_type": "markdown",
   "execution_count": null,
   "metadata": {
    "papermill": {
     "duration": 0.019924,
     "end_time": "2020-08-31T15:52:22.800462",
     "exception": false,
     "start_time": "2020-08-31T15:52:22.780538",
     "status": "completed"
    },
    "tags": []
   },
   "source": [
    "we have to find the name of flower in this dataset"
   ]
  },
  {
   "cell_type": "code",
   "execution_count": 29,
   "metadata": {
    "execution": {
     "iopub.execute_input": "2020-08-31T15:52:22.847500Z",
     "iopub.status.busy": "2020-08-31T15:52:22.846523Z",
     "iopub.status.idle": "2020-08-31T15:52:22.849859Z",
     "shell.execute_reply": "2020-08-31T15:52:22.849191Z"
    },
    "id": "oVjerb7seMyJ",
    "papermill": {
     "duration": 0.029213,
     "end_time": "2020-08-31T15:52:22.849976",
     "exception": false,
     "start_time": "2020-08-31T15:52:22.820763",
     "status": "completed"
    },
    "tags": []
   },
   "outputs": [],
   "source": [
    "df['flower']=iris.target"
   ]
  },
  {
   "cell_type": "code",
   "execution_count": 30,
   "metadata": {
    "execution": {
     "iopub.execute_input": "2020-08-31T15:52:22.904368Z",
     "iopub.status.busy": "2020-08-31T15:52:22.903332Z",
     "iopub.status.idle": "2020-08-31T15:52:22.908365Z",
     "shell.execute_reply": "2020-08-31T15:52:22.907608Z"
    },
    "id": "2stcEORiiOgO",
    "outputId": "a90cee71-5cd0-44bb-fa4b-2463ffa7520d",
    "papermill": {
     "duration": 0.038282,
     "end_time": "2020-08-31T15:52:22.908482",
     "exception": false,
     "start_time": "2020-08-31T15:52:22.870200",
     "status": "completed"
    },
    "tags": []
   },
   "outputs": [
    {
     "data": {
      "text/html": [
       "<div>\n",
       "<style scoped>\n",
       "    .dataframe tbody tr th:only-of-type {\n",
       "        vertical-align: middle;\n",
       "    }\n",
       "\n",
       "    .dataframe tbody tr th {\n",
       "        vertical-align: top;\n",
       "    }\n",
       "\n",
       "    .dataframe thead th {\n",
       "        text-align: right;\n",
       "    }\n",
       "</style>\n",
       "<table border=\"1\" class=\"dataframe\">\n",
       "  <thead>\n",
       "    <tr style=\"text-align: right;\">\n",
       "      <th></th>\n",
       "      <th>sepal length (cm)</th>\n",
       "      <th>sepal width (cm)</th>\n",
       "      <th>petal length (cm)</th>\n",
       "      <th>petal width (cm)</th>\n",
       "      <th>flower</th>\n",
       "    </tr>\n",
       "  </thead>\n",
       "  <tbody>\n",
       "    <tr>\n",
       "      <th>0</th>\n",
       "      <td>5.1</td>\n",
       "      <td>3.5</td>\n",
       "      <td>1.4</td>\n",
       "      <td>0.2</td>\n",
       "      <td>0</td>\n",
       "    </tr>\n",
       "    <tr>\n",
       "      <th>1</th>\n",
       "      <td>4.9</td>\n",
       "      <td>3.0</td>\n",
       "      <td>1.4</td>\n",
       "      <td>0.2</td>\n",
       "      <td>0</td>\n",
       "    </tr>\n",
       "    <tr>\n",
       "      <th>2</th>\n",
       "      <td>4.7</td>\n",
       "      <td>3.2</td>\n",
       "      <td>1.3</td>\n",
       "      <td>0.2</td>\n",
       "      <td>0</td>\n",
       "    </tr>\n",
       "    <tr>\n",
       "      <th>3</th>\n",
       "      <td>4.6</td>\n",
       "      <td>3.1</td>\n",
       "      <td>1.5</td>\n",
       "      <td>0.2</td>\n",
       "      <td>0</td>\n",
       "    </tr>\n",
       "    <tr>\n",
       "      <th>4</th>\n",
       "      <td>5.0</td>\n",
       "      <td>3.6</td>\n",
       "      <td>1.4</td>\n",
       "      <td>0.2</td>\n",
       "      <td>0</td>\n",
       "    </tr>\n",
       "  </tbody>\n",
       "</table>\n",
       "</div>"
      ],
      "text/plain": [
       "   sepal length (cm)  sepal width (cm)  petal length (cm)  petal width (cm)  \\\n",
       "0                5.1               3.5                1.4               0.2   \n",
       "1                4.9               3.0                1.4               0.2   \n",
       "2                4.7               3.2                1.3               0.2   \n",
       "3                4.6               3.1                1.5               0.2   \n",
       "4                5.0               3.6                1.4               0.2   \n",
       "\n",
       "   flower  \n",
       "0       0  \n",
       "1       0  \n",
       "2       0  \n",
       "3       0  \n",
       "4       0  "
      ]
     },
     "execution_count": 30,
     "metadata": {},
     "output_type": "execute_result"
    }
   ],
   "source": [
    "df.head()"
   ]
  },
  {
   "cell_type": "markdown",
   "execution_count": null,
   "metadata": {
    "papermill": {
     "duration": 0.024883,
     "end_time": "2020-08-31T15:52:22.954241",
     "exception": false,
     "start_time": "2020-08-31T15:52:22.929358",
     "status": "completed"
    },
    "tags": []
   },
   "source": [
    "Clean the data -- remove unnecessary columns"
   ]
  },
  {
   "cell_type": "code",
   "execution_count": 31,
   "metadata": {
    "execution": {
     "iopub.execute_input": "2020-08-31T15:52:23.027153Z",
     "iopub.status.busy": "2020-08-31T15:52:23.026114Z",
     "iopub.status.idle": "2020-08-31T15:52:23.029488Z",
     "shell.execute_reply": "2020-08-31T15:52:23.030105Z"
    },
    "id": "v69QNj75iUBp",
    "papermill": {
     "duration": 0.051465,
     "end_time": "2020-08-31T15:52:23.030256",
     "exception": false,
     "start_time": "2020-08-31T15:52:22.978791",
     "status": "completed"
    },
    "tags": []
   },
   "outputs": [],
   "source": [
    "df.drop(['sepal length (cm)','sepal width (cm)','flower'],axis=1,inplace=True)"
   ]
  },
  {
   "cell_type": "code",
   "execution_count": 32,
   "metadata": {
    "execution": {
     "iopub.execute_input": "2020-08-31T15:52:23.084386Z",
     "iopub.status.busy": "2020-08-31T15:52:23.083196Z",
     "iopub.status.idle": "2020-08-31T15:52:23.088285Z",
     "shell.execute_reply": "2020-08-31T15:52:23.087417Z"
    },
    "id": "d2drQffCjPCM",
    "outputId": "ed39ca19-4598-46ae-e9a0-276f6fca153d",
    "papermill": {
     "duration": 0.037114,
     "end_time": "2020-08-31T15:52:23.088450",
     "exception": false,
     "start_time": "2020-08-31T15:52:23.051336",
     "status": "completed"
    },
    "tags": []
   },
   "outputs": [
    {
     "data": {
      "text/html": [
       "<div>\n",
       "<style scoped>\n",
       "    .dataframe tbody tr th:only-of-type {\n",
       "        vertical-align: middle;\n",
       "    }\n",
       "\n",
       "    .dataframe tbody tr th {\n",
       "        vertical-align: top;\n",
       "    }\n",
       "\n",
       "    .dataframe thead th {\n",
       "        text-align: right;\n",
       "    }\n",
       "</style>\n",
       "<table border=\"1\" class=\"dataframe\">\n",
       "  <thead>\n",
       "    <tr style=\"text-align: right;\">\n",
       "      <th></th>\n",
       "      <th>petal length (cm)</th>\n",
       "      <th>petal width (cm)</th>\n",
       "    </tr>\n",
       "  </thead>\n",
       "  <tbody>\n",
       "    <tr>\n",
       "      <th>0</th>\n",
       "      <td>1.4</td>\n",
       "      <td>0.2</td>\n",
       "    </tr>\n",
       "    <tr>\n",
       "      <th>1</th>\n",
       "      <td>1.4</td>\n",
       "      <td>0.2</td>\n",
       "    </tr>\n",
       "    <tr>\n",
       "      <th>2</th>\n",
       "      <td>1.3</td>\n",
       "      <td>0.2</td>\n",
       "    </tr>\n",
       "    <tr>\n",
       "      <th>3</th>\n",
       "      <td>1.5</td>\n",
       "      <td>0.2</td>\n",
       "    </tr>\n",
       "    <tr>\n",
       "      <th>4</th>\n",
       "      <td>1.4</td>\n",
       "      <td>0.2</td>\n",
       "    </tr>\n",
       "  </tbody>\n",
       "</table>\n",
       "</div>"
      ],
      "text/plain": [
       "   petal length (cm)  petal width (cm)\n",
       "0                1.4               0.2\n",
       "1                1.4               0.2\n",
       "2                1.3               0.2\n",
       "3                1.5               0.2\n",
       "4                1.4               0.2"
      ]
     },
     "execution_count": 32,
     "metadata": {},
     "output_type": "execute_result"
    }
   ],
   "source": [
    "df.head()"
   ]
  },
  {
   "cell_type": "markdown",
   "execution_count": null,
   "metadata": {
    "papermill": {
     "duration": 0.053175,
     "end_time": "2020-08-31T15:52:23.163620",
     "exception": false,
     "start_time": "2020-08-31T15:52:23.110445",
     "status": "completed"
    },
    "tags": []
   },
   "source": [
    "Find relation between petal length and width"
   ]
  },
  {
   "cell_type": "code",
   "execution_count": 33,
   "metadata": {
    "execution": {
     "iopub.execute_input": "2020-08-31T15:52:23.236373Z",
     "iopub.status.busy": "2020-08-31T15:52:23.235316Z",
     "iopub.status.idle": "2020-08-31T15:52:23.437810Z",
     "shell.execute_reply": "2020-08-31T15:52:23.438399Z"
    },
    "id": "D7zlDdIvjbOG",
    "outputId": "9676d882-44e3-41dd-9e33-7578c25989a5",
    "papermill": {
     "duration": 0.246733,
     "end_time": "2020-08-31T15:52:23.438547",
     "exception": false,
     "start_time": "2020-08-31T15:52:23.191814",
     "status": "completed"
    },
    "tags": []
   },
   "outputs": [
    {
     "data": {
      "text/plain": [
       "<matplotlib.collections.PathCollection at 0x7fdf971f0cd0>"
      ]
     },
     "execution_count": 33,
     "metadata": {},
     "output_type": "execute_result"
    },
    {
     "data": {
      "image/png": "[encoded data removed]",
      "text/plain": [
       "<Figure size 432x288 with 1 Axes>"
      ]
     },
     "metadata": {
      "needs_background": "light"
     },
     "output_type": "display_data"
    }
   ],
   "source": [
    "plt.scatter(df[['petal length (cm)']],df[['petal width (cm)']])"
   ]
  },
  {
   "cell_type": "markdown",
   "execution_count": null,
   "metadata": {
    "papermill": {
     "duration": 0.021265,
     "end_time": "2020-08-31T15:52:23.481473",
     "exception": false,
     "start_time": "2020-08-31T15:52:23.460208",
     "status": "completed"
    },
    "tags": []
   },
   "source": [
    "Now you can see in the above graph, we easily identify the clusters in data.\n",
    "\n",
    "\n",
    "Now fit and transform the data"
   ]
  },
  {
   "cell_type": "code",
   "execution_count": 34,
   "metadata": {
    "execution": {
     "iopub.execute_input": "2020-08-31T15:52:23.539664Z",
     "iopub.status.busy": "2020-08-31T15:52:23.538845Z",
     "iopub.status.idle": "2020-08-31T15:52:23.542263Z",
     "shell.execute_reply": "2020-08-31T15:52:23.541581Z"
    },
    "id": "Q3K41NDnl1Q6",
    "papermill": {
     "duration": 0.039356,
     "end_time": "2020-08-31T15:52:23.542381",
     "exception": false,
     "start_time": "2020-08-31T15:52:23.503025",
     "status": "completed"
    },
    "tags": []
   },
   "outputs": [],
   "source": [
    "scaler.fit(df[['petal length (cm)']])\n",
    "df['petal length (cm)']=scaler.transform(df[['petal length (cm)']])"
   ]
  },
  {
   "cell_type": "code",
   "execution_count": 35,
   "metadata": {
    "execution": {
     "iopub.execute_input": "2020-08-31T15:52:23.600016Z",
     "iopub.status.busy": "2020-08-31T15:52:23.599218Z",
     "iopub.status.idle": "2020-08-31T15:52:23.602588Z",
     "shell.execute_reply": "2020-08-31T15:52:23.601854Z"
    },
    "id": "gWCw3JAMmZjQ",
    "papermill": {
     "duration": 0.038782,
     "end_time": "2020-08-31T15:52:23.602729",
     "exception": false,
     "start_time": "2020-08-31T15:52:23.563947",
     "status": "completed"
    },
    "tags": []
   },
   "outputs": [],
   "source": [
    "scaler.fit(df[['petal width (cm)']])\n",
    "df['petal width (cm)']=scaler.transform(df[['petal width (cm)']])"
   ]
  },
  {
   "cell_type": "code",
   "execution_count": 36,
   "metadata": {
    "execution": {
     "iopub.execute_input": "2020-08-31T15:52:23.666027Z",
     "iopub.status.busy": "2020-08-31T15:52:23.664997Z",
     "iopub.status.idle": "2020-08-31T15:52:23.669808Z",
     "shell.execute_reply": "2020-08-31T15:52:23.669135Z"
    },
    "id": "xtqhhLCXmoTs",
    "outputId": "dc1d0155-debc-4ebf-bf5a-1f40a4140f52",
    "papermill": {
     "duration": 0.035953,
     "end_time": "2020-08-31T15:52:23.669929",
     "exception": false,
     "start_time": "2020-08-31T15:52:23.633976",
     "status": "completed"
    },
    "tags": []
   },
   "outputs": [
    {
     "data": {
      "text/html": [
       "<div>\n",
       "<style scoped>\n",
       "    .dataframe tbody tr th:only-of-type {\n",
       "        vertical-align: middle;\n",
       "    }\n",
       "\n",
       "    .dataframe tbody tr th {\n",
       "        vertical-align: top;\n",
       "    }\n",
       "\n",
       "    .dataframe thead th {\n",
       "        text-align: right;\n",
       "    }\n",
       "</style>\n",
       "<table border=\"1\" class=\"dataframe\">\n",
       "  <thead>\n",
       "    <tr style=\"text-align: right;\">\n",
       "      <th></th>\n",
       "      <th>petal length (cm)</th>\n",
       "      <th>petal width (cm)</th>\n",
       "    </tr>\n",
       "  </thead>\n",
       "  <tbody>\n",
       "    <tr>\n",
       "      <th>0</th>\n",
       "      <td>0.067797</td>\n",
       "      <td>0.041667</td>\n",
       "    </tr>\n",
       "    <tr>\n",
       "      <th>1</th>\n",
       "      <td>0.067797</td>\n",
       "      <td>0.041667</td>\n",
       "    </tr>\n",
       "    <tr>\n",
       "      <th>2</th>\n",
       "      <td>0.050847</td>\n",
       "      <td>0.041667</td>\n",
       "    </tr>\n",
       "    <tr>\n",
       "      <th>3</th>\n",
       "      <td>0.084746</td>\n",
       "      <td>0.041667</td>\n",
       "    </tr>\n",
       "    <tr>\n",
       "      <th>4</th>\n",
       "      <td>0.067797</td>\n",
       "      <td>0.041667</td>\n",
       "    </tr>\n",
       "  </tbody>\n",
       "</table>\n",
       "</div>"
      ],
      "text/plain": [
       "   petal length (cm)  petal width (cm)\n",
       "0           0.067797          0.041667\n",
       "1           0.067797          0.041667\n",
       "2           0.050847          0.041667\n",
       "3           0.084746          0.041667\n",
       "4           0.067797          0.041667"
      ]
     },
     "execution_count": 36,
     "metadata": {},
     "output_type": "execute_result"
    }
   ],
   "source": [
    "df.head()"
   ]
  },
  {
   "cell_type": "code",
   "execution_count": 37,
   "metadata": {
    "execution": {
     "iopub.execute_input": "2020-08-31T15:52:23.722102Z",
     "iopub.status.busy": "2020-08-31T15:52:23.721369Z",
     "iopub.status.idle": "2020-08-31T15:52:23.762468Z",
     "shell.execute_reply": "2020-08-31T15:52:23.761862Z"
    },
    "id": "bTERKffOmunT",
    "papermill": {
     "duration": 0.07074,
     "end_time": "2020-08-31T15:52:23.762606",
     "exception": false,
     "start_time": "2020-08-31T15:52:23.691866",
     "status": "completed"
    },
    "tags": []
   },
   "outputs": [],
   "source": [
    "km=KMeans(n_clusters=3)\n",
    "y_predicted=km.fit_predict(df[['petal length (cm)','petal width (cm)']])"
   ]
  },
  {
   "cell_type": "code",
   "execution_count": 38,
   "metadata": {
    "execution": {
     "iopub.execute_input": "2020-08-31T15:52:23.813573Z",
     "iopub.status.busy": "2020-08-31T15:52:23.812462Z",
     "iopub.status.idle": "2020-08-31T15:52:23.817524Z",
     "shell.execute_reply": "2020-08-31T15:52:23.816860Z"
    },
    "id": "v9nCovu9m98q",
    "outputId": "b9d4d6df-d35a-4d7e-e2e3-6c5a46072853",
    "papermill": {
     "duration": 0.032695,
     "end_time": "2020-08-31T15:52:23.817649",
     "exception": false,
     "start_time": "2020-08-31T15:52:23.784954",
     "status": "completed"
    },
    "tags": []
   },
   "outputs": [
    {
     "data": {
      "text/plain": [
       "array([[0.7740113 , 0.81510417],\n",
       "       [0.07830508, 0.06083333],\n",
       "       [0.55867014, 0.51041667]])"
      ]
     },
     "execution_count": 38,
     "metadata": {},
     "output_type": "execute_result"
    }
   ],
   "source": [
    "km.cluster_centers_"
   ]
  },
  {
   "cell_type": "code",
   "execution_count": 39,
   "metadata": {
    "execution": {
     "iopub.execute_input": "2020-08-31T15:52:23.868363Z",
     "iopub.status.busy": "2020-08-31T15:52:23.867326Z",
     "iopub.status.idle": "2020-08-31T15:52:23.871420Z",
     "shell.execute_reply": "2020-08-31T15:52:23.870446Z"
    },
    "id": "NbWMZQMlnV0f",
    "papermill": {
     "duration": 0.031632,
     "end_time": "2020-08-31T15:52:23.871572",
     "exception": false,
     "start_time": "2020-08-31T15:52:23.839940",
     "status": "completed"
    },
    "tags": []
   },
   "outputs": [],
   "source": [
    "y_predicted\n",
    "df['cluster']=y_predicted"
   ]
  },
  {
   "cell_type": "code",
   "execution_count": 40,
   "metadata": {
    "execution": {
     "iopub.execute_input": "2020-08-31T15:52:23.926407Z",
     "iopub.status.busy": "2020-08-31T15:52:23.925563Z",
     "iopub.status.idle": "2020-08-31T15:52:23.928884Z",
     "shell.execute_reply": "2020-08-31T15:52:23.928193Z"
    },
    "id": "L76yzBI_nlfv",
    "papermill": {
     "duration": 0.031943,
     "end_time": "2020-08-31T15:52:23.929002",
     "exception": false,
     "start_time": "2020-08-31T15:52:23.897059",
     "status": "completed"
    },
    "tags": []
   },
   "outputs": [],
   "source": [
    "df1=df[df.cluster==0]"
   ]
  },
  {
   "cell_type": "code",
   "execution_count": 41,
   "metadata": {
    "execution": {
     "iopub.execute_input": "2020-08-31T15:52:23.981384Z",
     "iopub.status.busy": "2020-08-31T15:52:23.980383Z",
     "iopub.status.idle": "2020-08-31T15:52:23.984196Z",
     "shell.execute_reply": "2020-08-31T15:52:23.983236Z"
    },
    "id": "AN_i60q9nw5M",
    "papermill": {
     "duration": 0.032805,
     "end_time": "2020-08-31T15:52:23.984348",
     "exception": false,
     "start_time": "2020-08-31T15:52:23.951543",
     "status": "completed"
    },
    "tags": []
   },
   "outputs": [],
   "source": [
    "df2=df[df.cluster==1]\n",
    "df3=df[df.cluster==2]"
   ]
  },
  {
   "cell_type": "code",
   "execution_count": 42,
   "metadata": {
    "execution": {
     "iopub.execute_input": "2020-08-31T15:52:24.048360Z",
     "iopub.status.busy": "2020-08-31T15:52:24.046111Z",
     "iopub.status.idle": "2020-08-31T15:52:24.213687Z",
     "shell.execute_reply": "2020-08-31T15:52:24.214250Z"
    },
    "id": "2Dis0Is6n9_X",
    "outputId": "166dfefd-c954-47fe-d9b6-c1509a79c1b6",
    "papermill": {
     "duration": 0.204163,
     "end_time": "2020-08-31T15:52:24.214408",
     "exception": false,
     "start_time": "2020-08-31T15:52:24.010245",
     "status": "completed"
    },
    "tags": []
   },
   "outputs": [
    {
     "data": {
      "text/plain": [
       "<matplotlib.collections.PathCollection at 0x7fdf97172850>"
      ]
     },
     "execution_count": 42,
     "metadata": {},
     "output_type": "execute_result"
    },
    {
     "data": {
      "image/png": "[encoded data removed]",
      "text/plain": [
       "<Figure size 432x288 with 1 Axes>"
      ]
     },
     "metadata": {
      "needs_background": "light"
     },
     "output_type": "display_data"
    }
   ],
   "source": [
    "plt.scatter(df1['petal length (cm)'],df1['petal width (cm)'],color='red')\n",
    "plt.scatter(df2['petal length (cm)'],df2['petal width (cm)'],color='green')\n",
    "plt.scatter(df3['petal length (cm)'],df3['petal width (cm)'],color='black')\n",
    "plt.scatter(km.cluster_centers_[:,0],km.cluster_centers_[:,1])"
   ]
  },
  {
   "cell_type": "markdown",
   "execution_count": null,
   "metadata": {
    "papermill": {
     "duration": 0.022152,
     "end_time": "2020-08-31T15:52:24.259261",
     "exception": false,
     "start_time": "2020-08-31T15:52:24.237109",
     "status": "completed"
    },
    "tags": []
   },
   "source": [
    "You can see there we will make a proper cluster and predict the better result accordingly"
   ]
  },
  {
   "cell_type": "code",
   "execution_count": 43,
   "metadata": {
    "execution": {
     "iopub.execute_input": "2020-08-31T15:52:24.317543Z",
     "iopub.status.busy": "2020-08-31T15:52:24.316782Z",
     "iopub.status.idle": "2020-08-31T15:52:24.699107Z",
     "shell.execute_reply": "2020-08-31T15:52:24.698448Z"
    },
    "id": "VDDXsRNToVNR",
    "papermill": {
     "duration": 0.416847,
     "end_time": "2020-08-31T15:52:24.699244",
     "exception": false,
     "start_time": "2020-08-31T15:52:24.282397",
     "status": "completed"
    },
    "tags": []
   },
   "outputs": [],
   "source": [
    "sse=[]\n",
    "k_rng = range(1,10)\n",
    "for k in k_rng:\n",
    "  km=KMeans(n_clusters=k)\n",
    "  km.fit(df[['petal length (cm)','petal width (cm)']])\n",
    "  sse.append(km.inertia_)\n"
   ]
  },
  {
   "cell_type": "code",
   "execution_count": 44,
   "metadata": {
    "execution": {
     "iopub.execute_input": "2020-08-31T15:52:24.760801Z",
     "iopub.status.busy": "2020-08-31T15:52:24.757746Z",
     "iopub.status.idle": "2020-08-31T15:52:24.927289Z",
     "shell.execute_reply": "2020-08-31T15:52:24.928157Z"
    },
    "id": "ePX7ypXbqIO9",
    "outputId": "4e17dcf4-dca1-4fe6-edf0-15b633057e5e",
    "papermill": {
     "duration": 0.204199,
     "end_time": "2020-08-31T15:52:24.928378",
     "exception": false,
     "start_time": "2020-08-31T15:52:24.724179",
     "status": "completed"
    },
    "tags": []
   },
   "outputs": [
    {
     "data": {
      "text/plain": [
       "Text(0, 0.5, 'sum of squared error')"
      ]
     },
     "execution_count": 44,
     "metadata": {},
     "output_type": "execute_result"
    },
    {
     "data": {
      "image/png": "[encoded data removed]",
      "text/plain": [
       "<Figure size 432x288 with 1 Axes>"
      ]
     },
     "metadata": {
      "needs_background": "light"
     },
     "output_type": "display_data"
    }
   ],
   "source": [
    "plt.plot(k_rng,sse)\n",
    "plt.xlabel('k')\n",
    "plt.ylabel('sum of squared error')"
   ]
  },
  {
   "cell_type": "markdown",
   "execution_count": null,
   "metadata": {
    "papermill": {
     "duration": 0.023221,
     "end_time": "2020-08-31T15:52:24.980328",
     "exception": false,
     "start_time": "2020-08-31T15:52:24.957107",
     "status": "completed"
    },
    "tags": []
   },
   "source": [
    "Now you can learn what is Kmeans algorithm, how it works, what are the methods to look into.\n",
    "Now explore youself on the other documentations."
   ]
  }
 ],
 "metadata": {
  "kernelspec": {
   "display_name": "Python 3",
   "language": "python",
   "name": "python3"
  },
  "language_info": {
   "codemirror_mode": {
    "name": "ipython",
    "version": 3
   },
   "file_extension": ".py",
   "mimetype": "text/x-python",
   "name": "python",
   "nbconvert_exporter": "python",
   "pygments_lexer": "ipython3",
   "version": "3.7.6"
  },
  "papermill": {
   "duration": 12.198404,
   "end_time": "2020-08-31T15:52:25.113263",
   "environment_variables": {},
   "exception": null,
   "input_path": "__notebook__.ipynb",
   "output_path": "__notebook__.ipynb",
   "parameters": {},
   "start_time": "2020-08-31T15:52:12.914859",
   "version": "2.1.0"
  }
 },
 "nbformat": 4,
 "nbformat_minor": 4
}
